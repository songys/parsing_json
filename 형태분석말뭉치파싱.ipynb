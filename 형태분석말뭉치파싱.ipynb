{
 "cells": [
  {
   "cell_type": "code",
   "execution_count": 1,
   "metadata": {},
   "outputs": [],
   "source": [
    "import pandas as pd"
   ]
  },
  {
   "cell_type": "code",
   "execution_count": 2,
   "metadata": {},
   "outputs": [],
   "source": [
    "import json"
   ]
  },
  {
   "cell_type": "code",
   "execution_count": 8,
   "metadata": {},
   "outputs": [],
   "source": [
    "jobj = json.loads('\\n'.join(open('NXDP1902004291.json', 'rt', encoding='UTF8').readlines()))"
   ]
  },
  {
   "cell_type": "code",
   "execution_count": 9,
   "metadata": {},
   "outputs": [
    {
     "data": {
      "text/plain": [
       "['id', 'metadata', 'document']"
      ]
     },
     "execution_count": 9,
     "metadata": {},
     "output_type": "execute_result"
    }
   ],
   "source": [
    "list(jobj.keys())"
   ]
  },
  {
   "cell_type": "code",
   "execution_count": 13,
   "metadata": {},
   "outputs": [
    {
     "data": {
      "text/plain": [
       "7265"
      ]
     },
     "execution_count": 13,
     "metadata": {},
     "output_type": "execute_result"
    }
   ],
   "source": [
    "len(jobj['document'])"
   ]
  },
  {
   "cell_type": "code",
   "execution_count": 20,
   "metadata": {},
   "outputs": [
    {
     "data": {
      "text/plain": [
       "{'id': 'NWRW1800000021.1.1.1',\n",
       " 'form': '판교 중대형 분양가 3.3㎡당 1500만원대…',\n",
       " 'DP': [{'word_id': 1,\n",
       "   'word_form': '판교',\n",
       "   'head': 2,\n",
       "   'label': 'NP',\n",
       "   'dependent': []},\n",
       "  {'word_id': 2,\n",
       "   'word_form': '중대형',\n",
       "   'head': 3,\n",
       "   'label': 'NP',\n",
       "   'dependent': [1]},\n",
       "  {'word_id': 3,\n",
       "   'word_form': '분양가',\n",
       "   'head': 5,\n",
       "   'label': 'NP',\n",
       "   'dependent': [2]},\n",
       "  {'word_id': 4,\n",
       "   'word_form': '3.3㎡당',\n",
       "   'head': 5,\n",
       "   'label': 'NP',\n",
       "   'dependent': []},\n",
       "  {'word_id': 5,\n",
       "   'word_form': '1500만원대…',\n",
       "   'head': -1,\n",
       "   'label': 'NP',\n",
       "   'dependent': [3, 4]}]}"
      ]
     },
     "execution_count": 20,
     "metadata": {},
     "output_type": "execute_result"
    }
   ],
   "source": [
    "jobj['document'][0]['sentence'][0]['form']"
   ]
  },
  {
   "cell_type": "code",
   "execution_count": 21,
   "metadata": {},
   "outputs": [],
   "source": [
    "form = []\n",
    "for doc in jobj['document']:\n",
    "    for sentence in doc['sentence']:\n",
    "        form.append(sentence['form'])"
   ]
  },
  {
   "cell_type": "code",
   "execution_count": 22,
   "metadata": {},
   "outputs": [
    {
     "data": {
      "text/plain": [
       "150085"
      ]
     },
     "execution_count": 22,
     "metadata": {},
     "output_type": "execute_result"
    }
   ],
   "source": [
    "len(form)"
   ]
  },
  {
   "cell_type": "code",
   "execution_count": 23,
   "metadata": {},
   "outputs": [],
   "source": [
    "pd.DataFrame(form).to_excel(\"form.xlsx\")"
   ]
  },
  {
   "cell_type": "code",
   "execution_count": null,
   "metadata": {},
   "outputs": [],
   "source": []
  }
 ],
 "metadata": {
  "kernelspec": {
   "display_name": "Python 3",
   "language": "python",
   "name": "python3"
  },
  "language_info": {
   "codemirror_mode": {
    "name": "ipython",
    "version": 3
   },
   "file_extension": ".py",
   "mimetype": "text/x-python",
   "name": "python",
   "nbconvert_exporter": "python",
   "pygments_lexer": "ipython3",
   "version": "3.7.3"
  }
 },
 "nbformat": 4,
 "nbformat_minor": 4
}
